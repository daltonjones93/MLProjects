{
 "cells": [
  {
   "cell_type": "code",
   "execution_count": 1,
   "id": "3cc70d53",
   "metadata": {},
   "outputs": [],
   "source": [
    "import numpy as np\n",
    "import pandas as pd\n",
    "import matplotlib.pyplot as plt\n",
    "from sklearn.tree import DecisionTreeRegressor\n",
    "from sklearn.ensemble import RandomForestRegressor\n",
    "from sklearn.metrics import mean_squared_error\n",
    "from sklearn.model_selection import train_test_split\n",
    "import torch\n",
    "from torch import nn"
   ]
  },
  {
   "cell_type": "code",
   "execution_count": 2,
   "id": "4f287d95",
   "metadata": {},
   "outputs": [],
   "source": [
    "df = pd.read_csv(\"../data/data.csv\")"
   ]
  },
  {
   "cell_type": "code",
   "execution_count": 3,
   "id": "745d64d4",
   "metadata": {},
   "outputs": [
    {
     "data": {
      "text/html": [
       "<div>\n",
       "<style scoped>\n",
       "    .dataframe tbody tr th:only-of-type {\n",
       "        vertical-align: middle;\n",
       "    }\n",
       "\n",
       "    .dataframe tbody tr th {\n",
       "        vertical-align: top;\n",
       "    }\n",
       "\n",
       "    .dataframe thead th {\n",
       "        text-align: right;\n",
       "    }\n",
       "</style>\n",
       "<table border=\"1\" class=\"dataframe\">\n",
       "  <thead>\n",
       "    <tr style=\"text-align: right;\">\n",
       "      <th></th>\n",
       "      <th>Length</th>\n",
       "      <th>Diameter</th>\n",
       "      <th>Height</th>\n",
       "      <th>Whole weight</th>\n",
       "      <th>Shucked weight</th>\n",
       "      <th>Viscera weight</th>\n",
       "      <th>Shell weight</th>\n",
       "      <th>Rings</th>\n",
       "    </tr>\n",
       "  </thead>\n",
       "  <tbody>\n",
       "    <tr>\n",
       "      <th>count</th>\n",
       "      <td>4177.000000</td>\n",
       "      <td>4177.000000</td>\n",
       "      <td>4177.000000</td>\n",
       "      <td>4177.000000</td>\n",
       "      <td>4177.000000</td>\n",
       "      <td>4177.000000</td>\n",
       "      <td>4177.000000</td>\n",
       "      <td>4177.000000</td>\n",
       "    </tr>\n",
       "    <tr>\n",
       "      <th>mean</th>\n",
       "      <td>0.523992</td>\n",
       "      <td>0.407881</td>\n",
       "      <td>0.139516</td>\n",
       "      <td>0.828742</td>\n",
       "      <td>0.359367</td>\n",
       "      <td>0.180594</td>\n",
       "      <td>0.238831</td>\n",
       "      <td>9.933684</td>\n",
       "    </tr>\n",
       "    <tr>\n",
       "      <th>std</th>\n",
       "      <td>0.120093</td>\n",
       "      <td>0.099240</td>\n",
       "      <td>0.041827</td>\n",
       "      <td>0.490389</td>\n",
       "      <td>0.221963</td>\n",
       "      <td>0.109614</td>\n",
       "      <td>0.139203</td>\n",
       "      <td>3.224169</td>\n",
       "    </tr>\n",
       "    <tr>\n",
       "      <th>min</th>\n",
       "      <td>0.075000</td>\n",
       "      <td>0.055000</td>\n",
       "      <td>0.000000</td>\n",
       "      <td>0.002000</td>\n",
       "      <td>0.001000</td>\n",
       "      <td>0.000500</td>\n",
       "      <td>0.001500</td>\n",
       "      <td>1.000000</td>\n",
       "    </tr>\n",
       "    <tr>\n",
       "      <th>25%</th>\n",
       "      <td>0.450000</td>\n",
       "      <td>0.350000</td>\n",
       "      <td>0.115000</td>\n",
       "      <td>0.441500</td>\n",
       "      <td>0.186000</td>\n",
       "      <td>0.093500</td>\n",
       "      <td>0.130000</td>\n",
       "      <td>8.000000</td>\n",
       "    </tr>\n",
       "    <tr>\n",
       "      <th>50%</th>\n",
       "      <td>0.545000</td>\n",
       "      <td>0.425000</td>\n",
       "      <td>0.140000</td>\n",
       "      <td>0.799500</td>\n",
       "      <td>0.336000</td>\n",
       "      <td>0.171000</td>\n",
       "      <td>0.234000</td>\n",
       "      <td>9.000000</td>\n",
       "    </tr>\n",
       "    <tr>\n",
       "      <th>75%</th>\n",
       "      <td>0.615000</td>\n",
       "      <td>0.480000</td>\n",
       "      <td>0.165000</td>\n",
       "      <td>1.153000</td>\n",
       "      <td>0.502000</td>\n",
       "      <td>0.253000</td>\n",
       "      <td>0.329000</td>\n",
       "      <td>11.000000</td>\n",
       "    </tr>\n",
       "    <tr>\n",
       "      <th>max</th>\n",
       "      <td>0.815000</td>\n",
       "      <td>0.650000</td>\n",
       "      <td>1.130000</td>\n",
       "      <td>2.825500</td>\n",
       "      <td>1.488000</td>\n",
       "      <td>0.760000</td>\n",
       "      <td>1.005000</td>\n",
       "      <td>29.000000</td>\n",
       "    </tr>\n",
       "  </tbody>\n",
       "</table>\n",
       "</div>"
      ],
      "text/plain": [
       "            Length     Diameter       Height  Whole weight  Shucked weight  \\\n",
       "count  4177.000000  4177.000000  4177.000000   4177.000000     4177.000000   \n",
       "mean      0.523992     0.407881     0.139516      0.828742        0.359367   \n",
       "std       0.120093     0.099240     0.041827      0.490389        0.221963   \n",
       "min       0.075000     0.055000     0.000000      0.002000        0.001000   \n",
       "25%       0.450000     0.350000     0.115000      0.441500        0.186000   \n",
       "50%       0.545000     0.425000     0.140000      0.799500        0.336000   \n",
       "75%       0.615000     0.480000     0.165000      1.153000        0.502000   \n",
       "max       0.815000     0.650000     1.130000      2.825500        1.488000   \n",
       "\n",
       "       Viscera weight  Shell weight        Rings  \n",
       "count     4177.000000   4177.000000  4177.000000  \n",
       "mean         0.180594      0.238831     9.933684  \n",
       "std          0.109614      0.139203     3.224169  \n",
       "min          0.000500      0.001500     1.000000  \n",
       "25%          0.093500      0.130000     8.000000  \n",
       "50%          0.171000      0.234000     9.000000  \n",
       "75%          0.253000      0.329000    11.000000  \n",
       "max          0.760000      1.005000    29.000000  "
      ]
     },
     "execution_count": 3,
     "metadata": {},
     "output_type": "execute_result"
    }
   ],
   "source": [
    "df.describe()"
   ]
  },
  {
   "cell_type": "code",
   "execution_count": 4,
   "id": "683c3911",
   "metadata": {},
   "outputs": [
    {
     "data": {
      "text/plain": [
       "<matplotlib.collections.PathCollection at 0x16085b910>"
      ]
     },
     "execution_count": 4,
     "metadata": {},
     "output_type": "execute_result"
    },
    {
     "data": {
      "image/png": "[encoded data removed]",
      "text/plain": [
       "<Figure size 640x480 with 1 Axes>"
      ]
     },
     "metadata": {},
     "output_type": "display_data"
    }
   ],
   "source": [
    "plt.scatter(df[\"Length\"],df[\"Rings\"])"
   ]
  },
  {
   "cell_type": "code",
   "execution_count": 5,
   "id": "d373fe73",
   "metadata": {},
   "outputs": [],
   "source": [
    "#I don't think I'm going to worry about scaling the data...\n",
    "target = df[\"Rings\"].values\n",
    "df= df.drop([\"Rings\"],axis = 1)\n",
    "df['Sex'] = pd.Categorical(df['Sex']).codes\n"
   ]
  },
  {
   "cell_type": "code",
   "execution_count": 6,
   "id": "5138bc4b",
   "metadata": {},
   "outputs": [],
   "source": [
    "X_train,X_test,y_train,y_test = train_test_split(df,target)"
   ]
  },
  {
   "cell_type": "code",
   "execution_count": 7,
   "id": "fbcf5eac",
   "metadata": {},
   "outputs": [
    {
     "name": "stdout",
     "output_type": "stream",
     "text": [
      "0.0\n",
      "8.372248803827752\n"
     ]
    },
    {
     "name": "stderr",
     "output_type": "stream",
     "text": [
      "/Users/kirakalkus/anaconda3/lib/python3.11/site-packages/sklearn/utils/validation.py:767: FutureWarning: is_sparse is deprecated and will be removed in a future version. Check `isinstance(dtype, pd.SparseDtype)` instead.\n",
      "  if not hasattr(array, \"sparse\") and array.dtypes.apply(is_sparse).any():\n",
      "/Users/kirakalkus/anaconda3/lib/python3.11/site-packages/sklearn/utils/validation.py:605: FutureWarning: is_sparse is deprecated and will be removed in a future version. Check `isinstance(dtype, pd.SparseDtype)` instead.\n",
      "  if is_sparse(pd_dtype):\n",
      "/Users/kirakalkus/anaconda3/lib/python3.11/site-packages/sklearn/utils/validation.py:614: FutureWarning: is_sparse is deprecated and will be removed in a future version. Check `isinstance(dtype, pd.SparseDtype)` instead.\n",
      "  if is_sparse(pd_dtype) or not is_extension_array_dtype(pd_dtype):\n",
      "/Users/kirakalkus/anaconda3/lib/python3.11/site-packages/sklearn/utils/validation.py:767: FutureWarning: is_sparse is deprecated and will be removed in a future version. Check `isinstance(dtype, pd.SparseDtype)` instead.\n",
      "  if not hasattr(array, \"sparse\") and array.dtypes.apply(is_sparse).any():\n",
      "/Users/kirakalkus/anaconda3/lib/python3.11/site-packages/sklearn/utils/validation.py:605: FutureWarning: is_sparse is deprecated and will be removed in a future version. Check `isinstance(dtype, pd.SparseDtype)` instead.\n",
      "  if is_sparse(pd_dtype):\n",
      "/Users/kirakalkus/anaconda3/lib/python3.11/site-packages/sklearn/utils/validation.py:614: FutureWarning: is_sparse is deprecated and will be removed in a future version. Check `isinstance(dtype, pd.SparseDtype)` instead.\n",
      "  if is_sparse(pd_dtype) or not is_extension_array_dtype(pd_dtype):\n",
      "/Users/kirakalkus/anaconda3/lib/python3.11/site-packages/sklearn/utils/validation.py:767: FutureWarning: is_sparse is deprecated and will be removed in a future version. Check `isinstance(dtype, pd.SparseDtype)` instead.\n",
      "  if not hasattr(array, \"sparse\") and array.dtypes.apply(is_sparse).any():\n",
      "/Users/kirakalkus/anaconda3/lib/python3.11/site-packages/sklearn/utils/validation.py:605: FutureWarning: is_sparse is deprecated and will be removed in a future version. Check `isinstance(dtype, pd.SparseDtype)` instead.\n",
      "  if is_sparse(pd_dtype):\n",
      "/Users/kirakalkus/anaconda3/lib/python3.11/site-packages/sklearn/utils/validation.py:614: FutureWarning: is_sparse is deprecated and will be removed in a future version. Check `isinstance(dtype, pd.SparseDtype)` instead.\n",
      "  if is_sparse(pd_dtype) or not is_extension_array_dtype(pd_dtype):\n"
     ]
    }
   ],
   "source": [
    "\n",
    "dt = DecisionTreeRegressor()\n",
    "dt.fit(X_train,y_train)\n",
    "\n",
    "\n",
    "print(mean_squared_error(dt.predict(X_train),y_train))\n",
    "print(mean_squared_error(dt.predict(X_test),y_test))\n"
   ]
  },
  {
   "cell_type": "code",
   "execution_count": 8,
   "id": "74dc7ef9",
   "metadata": {},
   "outputs": [
    {
     "name": "stderr",
     "output_type": "stream",
     "text": [
      "/Users/kirakalkus/anaconda3/lib/python3.11/site-packages/sklearn/utils/validation.py:767: FutureWarning: is_sparse is deprecated and will be removed in a future version. Check `isinstance(dtype, pd.SparseDtype)` instead.\n",
      "  if not hasattr(array, \"sparse\") and array.dtypes.apply(is_sparse).any():\n",
      "/Users/kirakalkus/anaconda3/lib/python3.11/site-packages/sklearn/utils/validation.py:605: FutureWarning: is_sparse is deprecated and will be removed in a future version. Check `isinstance(dtype, pd.SparseDtype)` instead.\n",
      "  if is_sparse(pd_dtype):\n",
      "/Users/kirakalkus/anaconda3/lib/python3.11/site-packages/sklearn/utils/validation.py:614: FutureWarning: is_sparse is deprecated and will be removed in a future version. Check `isinstance(dtype, pd.SparseDtype)` instead.\n",
      "  if is_sparse(pd_dtype) or not is_extension_array_dtype(pd_dtype):\n"
     ]
    },
    {
     "name": "stdout",
     "output_type": "stream",
     "text": [
      "0.6617055555555555\n",
      "4.848493014354067\n"
     ]
    },
    {
     "name": "stderr",
     "output_type": "stream",
     "text": [
      "/Users/kirakalkus/anaconda3/lib/python3.11/site-packages/sklearn/utils/validation.py:767: FutureWarning: is_sparse is deprecated and will be removed in a future version. Check `isinstance(dtype, pd.SparseDtype)` instead.\n",
      "  if not hasattr(array, \"sparse\") and array.dtypes.apply(is_sparse).any():\n",
      "/Users/kirakalkus/anaconda3/lib/python3.11/site-packages/sklearn/utils/validation.py:605: FutureWarning: is_sparse is deprecated and will be removed in a future version. Check `isinstance(dtype, pd.SparseDtype)` instead.\n",
      "  if is_sparse(pd_dtype):\n",
      "/Users/kirakalkus/anaconda3/lib/python3.11/site-packages/sklearn/utils/validation.py:614: FutureWarning: is_sparse is deprecated and will be removed in a future version. Check `isinstance(dtype, pd.SparseDtype)` instead.\n",
      "  if is_sparse(pd_dtype) or not is_extension_array_dtype(pd_dtype):\n",
      "/Users/kirakalkus/anaconda3/lib/python3.11/site-packages/sklearn/utils/validation.py:767: FutureWarning: is_sparse is deprecated and will be removed in a future version. Check `isinstance(dtype, pd.SparseDtype)` instead.\n",
      "  if not hasattr(array, \"sparse\") and array.dtypes.apply(is_sparse).any():\n",
      "/Users/kirakalkus/anaconda3/lib/python3.11/site-packages/sklearn/utils/validation.py:605: FutureWarning: is_sparse is deprecated and will be removed in a future version. Check `isinstance(dtype, pd.SparseDtype)` instead.\n",
      "  if is_sparse(pd_dtype):\n",
      "/Users/kirakalkus/anaconda3/lib/python3.11/site-packages/sklearn/utils/validation.py:614: FutureWarning: is_sparse is deprecated and will be removed in a future version. Check `isinstance(dtype, pd.SparseDtype)` instead.\n",
      "  if is_sparse(pd_dtype) or not is_extension_array_dtype(pd_dtype):\n"
     ]
    }
   ],
   "source": [
    "\n",
    "rf = RandomForestRegressor()\n",
    "rf.fit(X_train,y_train)\n",
    "\n",
    "\n",
    "print(mean_squared_error(rf.predict(X_train),y_train))\n",
    "print(mean_squared_error(rf.predict(X_test),y_test))"
   ]
  },
  {
   "cell_type": "code",
   "execution_count": 9,
   "id": "5d275264",
   "metadata": {},
   "outputs": [],
   "source": [
    "X_torch = torch.from_numpy(df.values).type(torch.float32)\n",
    "y_torch = torch.from_numpy(target).unsqueeze(1).type(torch.float32)\n"
   ]
  },
  {
   "cell_type": "code",
   "execution_count": 10,
   "id": "c66fe1d3",
   "metadata": {},
   "outputs": [],
   "source": [
    "X_torch_train,X_torch_test,y_torch_train,y_torch_test = train_test_split(X_torch,y_torch)\n"
   ]
  },
  {
   "cell_type": "code",
   "execution_count": 14,
   "id": "3a02af23",
   "metadata": {},
   "outputs": [],
   "source": [
    "#let's build our model\n",
    "class NNregressor(nn.Module):\n",
    "    def __init__(self):\n",
    "        super().__init__()\n",
    "        self.layer1 = nn.Linear(8, 30)\n",
    "        self.layer2 = nn.Linear(30,30)\n",
    "        self.layer3 = nn.Linear(30,30)\n",
    "        self.layer4 = nn.Linear(30,1) #worried about dimensions...\n",
    "        self.ReLU = nn.ReLU()\n",
    "    def forward(self,x):\n",
    "        \n",
    "#         return self.layer1(x)\n",
    "        return self.layer4(self.ReLU(self.layer2(self.ReLU(self.layer1(x)))))\n",
    "    \n",
    "nnModel = NNregressor()\n"
   ]
  },
  {
   "cell_type": "code",
   "execution_count": 30,
   "id": "207b4706",
   "metadata": {},
   "outputs": [],
   "source": [
    "optimizer = torch.optim.Adam(params = nnModel.parameters(), lr = .001)\n",
    "loss_fn = nn.L1Loss()\n"
   ]
  },
  {
   "cell_type": "code",
   "execution_count": 31,
   "id": "804f425f",
   "metadata": {},
   "outputs": [
    {
     "name": "stdout",
     "output_type": "stream",
     "text": [
      "Epoch: 0, Loss: 3.374761\n",
      "Epoch: 1000, Loss: 3.3818023\n",
      "Epoch: 2000, Loss: 3.4012132\n",
      "Epoch: 3000, Loss: 3.4195676\n",
      "Epoch: 4000, Loss: 3.3765638\n",
      "Epoch: 5000, Loss: 3.4047098\n",
      "Epoch: 6000, Loss: 3.3887293\n",
      "Epoch: 7000, Loss: 3.374458\n",
      "Epoch: 8000, Loss: 3.3734248\n",
      "Epoch: 9000, Loss: 3.4116957\n",
      "Epoch: 10000, Loss: 3.3850293\n",
      "Epoch: 11000, Loss: 3.4187725\n",
      "Epoch: 12000, Loss: 3.4067292\n",
      "Epoch: 13000, Loss: 3.375696\n",
      "Epoch: 14000, Loss: 3.3877966\n",
      "Epoch: 15000, Loss: 3.3861911\n",
      "Epoch: 16000, Loss: 3.3946154\n",
      "Epoch: 17000, Loss: 3.4013247\n",
      "Epoch: 18000, Loss: 3.3785691\n",
      "Epoch: 19000, Loss: 3.3889189\n",
      "Epoch: 20000, Loss: 3.3962483\n",
      "Epoch: 21000, Loss: 3.4069204\n",
      "Epoch: 22000, Loss: 3.4052093\n",
      "Epoch: 23000, Loss: 3.3839736\n",
      "Epoch: 24000, Loss: 3.3791463\n",
      "Epoch: 25000, Loss: 3.388968\n",
      "Epoch: 26000, Loss: 3.3840234\n",
      "Epoch: 27000, Loss: 3.3889594\n",
      "Epoch: 28000, Loss: 3.3845856\n",
      "Epoch: 29000, Loss: 3.3838408\n",
      "Epoch: 30000, Loss: 3.3800733\n",
      "Epoch: 31000, Loss: 3.382356\n",
      "Epoch: 32000, Loss: 3.3828194\n",
      "Epoch: 33000, Loss: 3.3798547\n",
      "Epoch: 34000, Loss: 3.3794744\n",
      "Epoch: 35000, Loss: 3.3986804\n",
      "Epoch: 36000, Loss: 3.3826416\n",
      "Epoch: 37000, Loss: 3.3793547\n",
      "Epoch: 38000, Loss: 3.4023309\n",
      "Epoch: 39000, Loss: 3.3794825\n",
      "Epoch: 40000, Loss: 3.394631\n",
      "Epoch: 41000, Loss: 3.3743227\n",
      "Epoch: 42000, Loss: 3.3781755\n",
      "Epoch: 43000, Loss: 3.3744264\n",
      "Epoch: 44000, Loss: 3.3954518\n",
      "Epoch: 45000, Loss: 3.3923595\n",
      "Epoch: 46000, Loss: 3.3873096\n",
      "Epoch: 47000, Loss: 3.3952525\n",
      "Epoch: 48000, Loss: 3.4116504\n",
      "Epoch: 49000, Loss: 3.3919332\n",
      "Epoch: 50000, Loss: 3.4141054\n",
      "Epoch: 51000, Loss: 3.382468\n",
      "Epoch: 52000, Loss: 3.370472\n",
      "Epoch: 53000, Loss: 3.3780725\n",
      "Epoch: 54000, Loss: 3.3888078\n",
      "Epoch: 55000, Loss: 3.3866258\n",
      "Epoch: 56000, Loss: 3.377825\n",
      "Epoch: 57000, Loss: 3.4097013\n",
      "Epoch: 58000, Loss: 3.374756\n",
      "Epoch: 59000, Loss: 3.3803425\n",
      "Epoch: 60000, Loss: 3.3702974\n",
      "Epoch: 61000, Loss: 3.3796194\n",
      "Epoch: 62000, Loss: 3.3763413\n",
      "Epoch: 63000, Loss: 3.4028401\n",
      "Epoch: 64000, Loss: 3.3825808\n",
      "Epoch: 65000, Loss: 3.3802223\n",
      "Epoch: 66000, Loss: 3.3949378\n",
      "Epoch: 67000, Loss: 3.3761182\n",
      "Epoch: 68000, Loss: 3.37474\n",
      "Epoch: 69000, Loss: 3.3768559\n",
      "Epoch: 70000, Loss: 3.3691175\n",
      "Epoch: 71000, Loss: 3.394719\n",
      "Epoch: 72000, Loss: 3.3821547\n",
      "Epoch: 73000, Loss: 3.3759248\n",
      "Epoch: 74000, Loss: 3.3680494\n",
      "Epoch: 75000, Loss: 3.3588533\n",
      "Epoch: 76000, Loss: 3.361872\n",
      "Epoch: 77000, Loss: 3.3788273\n",
      "Epoch: 78000, Loss: 3.3656313\n",
      "Epoch: 79000, Loss: 3.3920562\n",
      "Epoch: 80000, Loss: 3.3846686\n",
      "Epoch: 81000, Loss: 3.3765821\n",
      "Epoch: 82000, Loss: 3.3793771\n",
      "Epoch: 83000, Loss: 3.3896685\n",
      "Epoch: 84000, Loss: 3.3826396\n",
      "Epoch: 85000, Loss: 3.385482\n",
      "Epoch: 86000, Loss: 3.3594542\n",
      "Epoch: 87000, Loss: 3.3749719\n",
      "Epoch: 88000, Loss: 3.3797064\n",
      "Epoch: 89000, Loss: 3.3627157\n",
      "Epoch: 90000, Loss: 3.3932266\n",
      "Epoch: 91000, Loss: 3.3736448\n",
      "Epoch: 92000, Loss: 3.373205\n",
      "Epoch: 93000, Loss: 3.373538\n",
      "Epoch: 94000, Loss: 3.3856134\n",
      "Epoch: 95000, Loss: 3.3868413\n",
      "Epoch: 96000, Loss: 3.371289\n",
      "Epoch: 97000, Loss: 3.3660946\n",
      "Epoch: 98000, Loss: 3.36684\n",
      "Epoch: 99000, Loss: 3.370316\n"
     ]
    }
   ],
   "source": [
    "epochs = 100000\n",
    "\n",
    "for epoch in range(epochs):\n",
    "    \n",
    "    nnModel.train()\n",
    "    \n",
    "    #forward pass\n",
    "    y_pred = nnModel(X_torch_train)\n",
    "    \n",
    "    #compute loss\n",
    "    loss = loss_fn(y_pred, y_torch_train)\n",
    "    \n",
    "    mse = mean_squared_error(y_pred.detach().numpy().flatten(),y_torch_train.detach().numpy().flatten())\n",
    "    \n",
    "    #Zero gradient\n",
    "    optimizer.zero_grad()\n",
    "    \n",
    "    #backwards loss\n",
    "    loss.backward()\n",
    "    \n",
    "    optimizer.step()\n",
    "    \n",
    "    if epoch % 1000 == 0:\n",
    "        print(\"Epoch: \" +str(epoch)+\", Loss: \"+str(mse))\n",
    "    "
   ]
  },
  {
   "cell_type": "code",
   "execution_count": 32,
   "id": "43c52ff9",
   "metadata": {},
   "outputs": [],
   "source": [
    "nnModel.eval()\n",
    "\n",
    "y_pred = nnModel(X_torch_test)\n",
    "    \n",
    "    #compute loss\n",
    "#     loss = loss_fn(y_pred, y_torch_train)\n",
    "    \n",
    "mse = mean_squared_error(y_pred.detach().numpy().flatten(),y_torch_test.detach().numpy().flatten())"
   ]
  },
  {
   "cell_type": "code",
   "execution_count": 33,
   "id": "71148884",
   "metadata": {},
   "outputs": [
    {
     "data": {
      "text/plain": [
       "9.769674"
      ]
     },
     "execution_count": 33,
     "metadata": {},
     "output_type": "execute_result"
    }
   ],
   "source": [
    "mse"
   ]
  },
  {
   "cell_type": "code",
   "execution_count": null,
   "id": "17de83f8",
   "metadata": {},
   "outputs": [],
   "source": []
  }
 ],
 "metadata": {
  "kernelspec": {
   "display_name": "Python 3 (ipykernel)",
   "language": "python",
   "name": "python3"
  },
  "language_info": {
   "codemirror_mode": {
    "name": "ipython",
    "version": 3
   },
   "file_extension": ".py",
   "mimetype": "text/x-python",
   "name": "python",
   "nbconvert_exporter": "python",
   "pygments_lexer": "ipython3",
   "version": "3.11.6"
  }
 },
 "nbformat": 4,
 "nbformat_minor": 5
}
